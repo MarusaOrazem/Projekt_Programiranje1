{
 "cells": [
  {
   "cell_type": "code",
   "execution_count": 1,
   "metadata": {
    "collapsed": true
   },
   "outputs": [],
   "source": [
    "import pandas as pd\n",
    "import numpy as np\n",
    "%matplotlib inline"
   ]
  },
  {
   "cell_type": "markdown",
   "metadata": {
    "collapsed": true
   },
   "source": [
    "Za projekt pri predmetu Programiranje 1 bom analizirala podatke o Ljubljanskem maratonu. Podatke sem dobila iz spletne strani\n",
    "timing ljubljana. Obseg zajema podatkov sega od 19 Ljubljanskega maratona leta 2014 do 21 Ljubljanskega maratona leta 2016.\n",
    "Projekt obsega splošno statistiko, koliko držav se udeleži maratona, najboljši tekmovalci, primerjava tekmovalcev glede na\n",
    "starost in spol ... "
   ]
  },
  {
   "cell_type": "markdown",
   "metadata": {
    "collapsed": true
   },
   "source": [
    "Za vsako leto sem zajela naslednje podatke :\n",
    "    *mesto tekmovalca (uvrstitev)\n",
    "    *ime\n",
    "    *letnica rojstva\n",
    "    *drzava\n",
    "    *netto cas\n",
    "    *kategorija\n",
    "    *mesto v kategoriji"
   ]
  },
  {
   "cell_type": "markdown",
   "metadata": {
    "collapsed": true
   },
   "source": [
    "za začetek si oglejmo naše tabele"
   ]
  },
  {
   "cell_type": "code",
   "execution_count": 3,
   "metadata": {
    "collapsed": true
   },
   "outputs": [],
   "source": [
    "tab_moski21 = pd.read_csv('podatki_moski21.csv')\n",
    "tab_zenske21 = pd.read_csv('podatki_zenske21.csv')\n",
    "tab_moski20 = pd.read_csv('podatki_moski20.csv')\n",
    "tab_zenske20 = pd.read_csv('podatki_zenske20.csv')\n",
    "tab_moski19 = pd.read_csv('podatki_moski19.csv')\n",
    "tab_zenske19 = pd.read_csv('podatki_zenske19.csv')\n",
    "tabele = [tab_moski21,tab_moski20,tab_moski19,tab_zenske21,tab_zenske20,tab_zenske19]"
   ]
  },
  {
   "cell_type": "code",
   "execution_count": 4,
   "metadata": {},
   "outputs": [
    {
     "data": {
      "text/html": [
       "<div>\n",
       "<style>\n",
       "    .dataframe thead tr:only-child th {\n",
       "        text-align: right;\n",
       "    }\n",
       "\n",
       "    .dataframe thead th {\n",
       "        text-align: left;\n",
       "    }\n",
       "\n",
       "    .dataframe tbody tr th {\n",
       "        vertical-align: top;\n",
       "    }\n",
       "</style>\n",
       "<table border=\"1\" class=\"dataframe\">\n",
       "  <thead>\n",
       "    <tr style=\"text-align: right;\">\n",
       "      <th></th>\n",
       "      <th>letnica_rojstva</th>\n",
       "      <th>ime</th>\n",
       "      <th>drzava</th>\n",
       "      <th>mesto</th>\n",
       "      <th>mesto_v_kategoriji</th>\n",
       "      <th>netto_cas</th>\n",
       "      <th>kategorija</th>\n",
       "    </tr>\n",
       "  </thead>\n",
       "  <tbody>\n",
       "    <tr>\n",
       "      <th>0</th>\n",
       "      <td>1988</td>\n",
       "      <td>Mutai Laban</td>\n",
       "      <td>KEN</td>\n",
       "      <td>1</td>\n",
       "      <td>1</td>\n",
       "      <td>2:09:16</td>\n",
       "      <td>A</td>\n",
       "    </tr>\n",
       "    <tr>\n",
       "      <th>1</th>\n",
       "      <td>1983</td>\n",
       "      <td>Kimutai Philip Sanga</td>\n",
       "      <td>KEN</td>\n",
       "      <td>2</td>\n",
       "      <td>1</td>\n",
       "      <td>2:09:19</td>\n",
       "      <td>B</td>\n",
       "    </tr>\n",
       "    <tr>\n",
       "      <th>2</th>\n",
       "      <td>1989</td>\n",
       "      <td>Matebo Levi Omari</td>\n",
       "      <td>KEN</td>\n",
       "      <td>3</td>\n",
       "      <td>2</td>\n",
       "      <td>2:09:37</td>\n",
       "      <td>A</td>\n",
       "    </tr>\n",
       "    <tr>\n",
       "      <th>3</th>\n",
       "      <td>1988</td>\n",
       "      <td>Misganaw Abraraw</td>\n",
       "      <td>ETH</td>\n",
       "      <td>4</td>\n",
       "      <td>3</td>\n",
       "      <td>2:09:47</td>\n",
       "      <td>A</td>\n",
       "    </tr>\n",
       "    <tr>\n",
       "      <th>4</th>\n",
       "      <td>1988</td>\n",
       "      <td>Kosgei Kosgei</td>\n",
       "      <td>KEN</td>\n",
       "      <td>5</td>\n",
       "      <td>4</td>\n",
       "      <td>2:10:18</td>\n",
       "      <td>A</td>\n",
       "    </tr>\n",
       "    <tr>\n",
       "      <th>5</th>\n",
       "      <td>1990</td>\n",
       "      <td>Ruto Dominic</td>\n",
       "      <td>KEN</td>\n",
       "      <td>6</td>\n",
       "      <td>5</td>\n",
       "      <td>2:10:29</td>\n",
       "      <td>A</td>\n",
       "    </tr>\n",
       "    <tr>\n",
       "      <th>6</th>\n",
       "      <td>1997</td>\n",
       "      <td>Chemonges Robert</td>\n",
       "      <td>UGA</td>\n",
       "      <td>7</td>\n",
       "      <td>6</td>\n",
       "      <td>2:11:04</td>\n",
       "      <td>A</td>\n",
       "    </tr>\n",
       "    <tr>\n",
       "      <th>7</th>\n",
       "      <td>1975</td>\n",
       "      <td>Lebid Serhiy</td>\n",
       "      <td>UKR</td>\n",
       "      <td>8</td>\n",
       "      <td>1</td>\n",
       "      <td>2:11:05</td>\n",
       "      <td>D</td>\n",
       "    </tr>\n",
       "    <tr>\n",
       "      <th>8</th>\n",
       "      <td>1983</td>\n",
       "      <td>Quaresma Miguel</td>\n",
       "      <td>POR</td>\n",
       "      <td>9</td>\n",
       "      <td>2</td>\n",
       "      <td>2:24:59</td>\n",
       "      <td>B</td>\n",
       "    </tr>\n",
       "    <tr>\n",
       "      <th>9</th>\n",
       "      <td>1968</td>\n",
       "      <td>Rosa Eusebio</td>\n",
       "      <td>POR</td>\n",
       "      <td>10</td>\n",
       "      <td>1</td>\n",
       "      <td>2:34:16</td>\n",
       "      <td>E</td>\n",
       "    </tr>\n",
       "  </tbody>\n",
       "</table>\n",
       "</div>"
      ],
      "text/plain": [
       "   letnica_rojstva                   ime drzava  mesto  mesto_v_kategoriji  \\\n",
       "0             1988           Mutai Laban    KEN      1                   1   \n",
       "1             1983  Kimutai Philip Sanga    KEN      2                   1   \n",
       "2             1989     Matebo Levi Omari    KEN      3                   2   \n",
       "3             1988      Misganaw Abraraw    ETH      4                   3   \n",
       "4             1988         Kosgei Kosgei    KEN      5                   4   \n",
       "5             1990          Ruto Dominic    KEN      6                   5   \n",
       "6             1997      Chemonges Robert    UGA      7                   6   \n",
       "7             1975          Lebid Serhiy    UKR      8                   1   \n",
       "8             1983       Quaresma Miguel    POR      9                   2   \n",
       "9             1968          Rosa Eusebio    POR     10                   1   \n",
       "\n",
       "  netto_cas kategorija  \n",
       "0   2:09:16          A  \n",
       "1   2:09:19          B  \n",
       "2   2:09:37          A  \n",
       "3   2:09:47          A  \n",
       "4   2:10:18          A  \n",
       "5   2:10:29          A  \n",
       "6   2:11:04          A  \n",
       "7   2:11:05          D  \n",
       "8   2:24:59          B  \n",
       "9   2:34:16          E  "
      ]
     },
     "execution_count": 4,
     "metadata": {},
     "output_type": "execute_result"
    }
   ],
   "source": [
    "tab_moski21[:10]"
   ]
  },
  {
   "cell_type": "markdown",
   "metadata": {},
   "source": [
    "STATISTIKA GLEDE NA DRŽAVO\n",
    "\n",
    "\n",
    "poglejmo si najprej število tekmovalcev iz posameznih držav za posamezno leto"
   ]
  },
  {
   "cell_type": "code",
   "execution_count": 5,
   "metadata": {},
   "outputs": [
    {
     "data": {
      "text/plain": [
       "SLO    1149.0\n",
       "CRO     211.0\n",
       "ITA     106.0\n",
       "AUT      68.0\n",
       "SRB      62.0\n",
       "GBR      40.0\n",
       "GER      30.0\n",
       "BIH      27.0\n",
       "HUN      20.0\n",
       "POL      16.0\n",
       "CZE      15.0\n",
       "FRA      13.0\n",
       "BEL      11.0\n",
       "SVK      10.0\n",
       "KEN      10.0\n",
       "NED       9.0\n",
       "ESP       8.0\n",
       "FIN       7.0\n",
       "EST       6.0\n",
       "SWE       6.0\n",
       "ETH       5.0\n",
       "SUI       5.0\n",
       "DEN       4.0\n",
       "POR       4.0\n",
       "ROM       3.0\n",
       "RUS       3.0\n",
       "GRE       3.0\n",
       "ISR       3.0\n",
       "USA       2.0\n",
       "NOR       2.0\n",
       "SMR       2.0\n",
       "HRV       1.0\n",
       "IRL       1.0\n",
       "UKR       1.0\n",
       "LAT       1.0\n",
       "MLT       1.0\n",
       "MNE       1.0\n",
       "NZL       1.0\n",
       "CAN       1.0\n",
       "BUL       1.0\n",
       "BLR       1.0\n",
       "RSA       1.0\n",
       "UGA       1.0\n",
       "ALB       1.0\n",
       "AFG       1.0\n",
       "Name: drzava, dtype: float64"
      ]
     },
     "execution_count": 5,
     "metadata": {},
     "output_type": "execute_result"
    }
   ],
   "source": [
    "drzave21 = tab_moski21['drzava'].value_counts().add(tab_zenske21['drzava'].value_counts(), fill_value=0).sort_values(ascending=False)\n",
    "drzave21"
   ]
  },
  {
   "cell_type": "markdown",
   "metadata": {
    "collapsed": true
   },
   "source": [
    "Uprašajmo se, iz katerih držav prihajajo tekmovalci."
   ]
  },
  {
   "cell_type": "code",
   "execution_count": 6,
   "metadata": {},
   "outputs": [
    {
     "data": {
      "text/plain": [
       "<matplotlib.axes._subplots.AxesSubplot at 0x2add2b4fa58>"
      ]
     },
     "execution_count": 6,
     "metadata": {},
     "output_type": "execute_result"
    },
    {
     "data": {
      "image/png": "[encoded data removed]",
      "text/plain": [
       "<matplotlib.figure.Figure at 0x2add2a58b70>"
      ]
     },
     "metadata": {},
     "output_type": "display_data"
    }
   ],
   "source": [
    "def drzave(tab):\n",
    "    skupi = 0\n",
    "    for tabela in tab:\n",
    "        skupi += tabela['drzava'].value_counts()\n",
    "    return skupi.sort_values(ascending=False)\n",
    "drzave(tabele)[:13].plot.barh(stacked=True, figsize = (20,10))"
   ]
  },
  {
   "cell_type": "markdown",
   "metadata": {},
   "source": [
    "Zaradi preglednosti tabele, sem zajela samo prvih 13 držav. Vidimo, da tekmovalci prihajajo iz različnih držav,\n",
    "največ pa jih je očitno iz Slovenije.\n",
    "Ali večje število tekmovalcev iz posamezne države pomeni večjo uspešnost teh tekmovalcev? Če se slovenci udeležujemo\n",
    "maratona v največjem številu, ali to pomeni da so naši rezultati tudi najboljši? Ali je naprimer uspešnost kenijcev\n",
    "in američanov slabša, saj je njihovo število tekmovalcev zelo malo?"
   ]
  },
  {
   "cell_type": "code",
   "execution_count": 7,
   "metadata": {
    "collapsed": true
   },
   "outputs": [],
   "source": [
    "naj1 = pd.DataFrame(tab_moski21[:10]['drzava'].value_counts())\n",
    "naj2 = pd.DataFrame(tab_moski20[:10]['drzava'].value_counts())\n",
    "naj3 = pd.DataFrame(tab_moski19[:10]['drzava'].value_counts())\n",
    "naj4 = pd.DataFrame(tab_zenske21[:10]['drzava'].value_counts())\n",
    "naj5 = pd.DataFrame(tab_zenske20[:10]['drzava'].value_counts())\n",
    "naj6 = pd.DataFrame(tab_zenske19[:10]['drzava'].value_counts())"
   ]
  },
  {
   "cell_type": "code",
   "execution_count": 8,
   "metadata": {
    "collapsed": true
   },
   "outputs": [],
   "source": [
    "naj10=(naj1.add(naj2,naj3,naj4, fill_value=0)).add(naj5,naj6,fill_value=0)"
   ]
  },
  {
   "cell_type": "code",
   "execution_count": 9,
   "metadata": {},
   "outputs": [
    {
     "data": {
      "text/html": [
       "<div>\n",
       "<style>\n",
       "    .dataframe thead tr:only-child th {\n",
       "        text-align: right;\n",
       "    }\n",
       "\n",
       "    .dataframe thead th {\n",
       "        text-align: left;\n",
       "    }\n",
       "\n",
       "    .dataframe tbody tr th {\n",
       "        vertical-align: top;\n",
       "    }\n",
       "</style>\n",
       "<table border=\"1\" class=\"dataframe\">\n",
       "  <thead>\n",
       "    <tr style=\"text-align: right;\">\n",
       "      <th></th>\n",
       "      <th>stevilo uvrstitev med najboljsih 10</th>\n",
       "    </tr>\n",
       "  </thead>\n",
       "  <tbody>\n",
       "    <tr>\n",
       "      <th>KEN</th>\n",
       "      <td>13.0</td>\n",
       "    </tr>\n",
       "    <tr>\n",
       "      <th>SLO</th>\n",
       "      <td>5.0</td>\n",
       "    </tr>\n",
       "    <tr>\n",
       "      <th>ETH</th>\n",
       "      <td>4.0</td>\n",
       "    </tr>\n",
       "    <tr>\n",
       "      <th>POR</th>\n",
       "      <td>2.0</td>\n",
       "    </tr>\n",
       "    <tr>\n",
       "      <th>CRO</th>\n",
       "      <td>1.0</td>\n",
       "    </tr>\n",
       "    <tr>\n",
       "      <th>GBR</th>\n",
       "      <td>1.0</td>\n",
       "    </tr>\n",
       "    <tr>\n",
       "      <th>LTU</th>\n",
       "      <td>1.0</td>\n",
       "    </tr>\n",
       "    <tr>\n",
       "      <th>RUS</th>\n",
       "      <td>1.0</td>\n",
       "    </tr>\n",
       "    <tr>\n",
       "      <th>UGA</th>\n",
       "      <td>1.0</td>\n",
       "    </tr>\n",
       "    <tr>\n",
       "      <th>UKR</th>\n",
       "      <td>1.0</td>\n",
       "    </tr>\n",
       "  </tbody>\n",
       "</table>\n",
       "</div>"
      ],
      "text/plain": [
       "     stevilo uvrstitev med najboljsih 10\n",
       "KEN                                 13.0\n",
       "SLO                                  5.0\n",
       "ETH                                  4.0\n",
       "POR                                  2.0\n",
       "CRO                                  1.0\n",
       "GBR                                  1.0\n",
       "LTU                                  1.0\n",
       "RUS                                  1.0\n",
       "UGA                                  1.0\n",
       "UKR                                  1.0"
      ]
     },
     "execution_count": 9,
     "metadata": {},
     "output_type": "execute_result"
    }
   ],
   "source": [
    "naj10.columns = ['stevilo uvrstitev med najboljsih 10']\n",
    "naj10.sort_values('stevilo uvrstitev med najboljsih 10', ascending = False)"
   ]
  },
  {
   "cell_type": "markdown",
   "metadata": {
    "collapsed": true
   },
   "source": [
    "Vidimo, da število udeležencev iz posamezne države ne upliva na boljšo uvrstitev.\n",
    "Poglejmo še, koliko prvih treh mest je zasedla posamezna država."
   ]
  },
  {
   "cell_type": "code",
   "execution_count": 10,
   "metadata": {
    "collapsed": true
   },
   "outputs": [],
   "source": [
    "def slovar(seznam):\n",
    "    slovar = {}\n",
    "    for drzava in seznam:\n",
    "        if drzava in slovar.keys():\n",
    "            slovar[drzava] += 1\n",
    "        else:\n",
    "            slovar[drzava] = 1\n",
    "    return slovar\n",
    "\n",
    "def prva_mesta(tabele):\n",
    "    prva_mesta = []\n",
    "    for tabela in tabele:\n",
    "        prva_mesta.append(tabela['drzava'][0])\n",
    "    return slovar(prva_mesta)\n",
    "\n",
    "def druga_mesta(tabele):\n",
    "    druga_mesta = []\n",
    "    for tabela in tabele:\n",
    "        druga_mesta.append(tabela['drzava'][1])\n",
    "    return slovar(druga_mesta)\n",
    "\n",
    "def tretja_mesta(tabele):\n",
    "    tretja_mesta = []\n",
    "    for tabela in tabele:\n",
    "        tretja_mesta.append(tabela['drzava'][2])\n",
    "    return slovar(tretja_mesta)"
   ]
  },
  {
   "cell_type": "code",
   "execution_count": 11,
   "metadata": {
    "collapsed": true
   },
   "outputs": [],
   "source": [
    "najboljsi = {'1.mesto':prva_mesta(tabele), '2.mesto':druga_mesta(tabele), '3.mesto':tretja_mesta(tabele)}"
   ]
  },
  {
   "cell_type": "code",
   "execution_count": 12,
   "metadata": {},
   "outputs": [
    {
     "data": {
      "text/html": [
       "<div>\n",
       "<style>\n",
       "    .dataframe thead tr:only-child th {\n",
       "        text-align: right;\n",
       "    }\n",
       "\n",
       "    .dataframe thead th {\n",
       "        text-align: left;\n",
       "    }\n",
       "\n",
       "    .dataframe tbody tr th {\n",
       "        vertical-align: top;\n",
       "    }\n",
       "</style>\n",
       "<table border=\"1\" class=\"dataframe\">\n",
       "  <thead>\n",
       "    <tr style=\"text-align: right;\">\n",
       "      <th></th>\n",
       "      <th>KEN</th>\n",
       "      <th>ETH</th>\n",
       "    </tr>\n",
       "  </thead>\n",
       "  <tbody>\n",
       "    <tr>\n",
       "      <th>1.mesto</th>\n",
       "      <td>4</td>\n",
       "      <td>2</td>\n",
       "    </tr>\n",
       "    <tr>\n",
       "      <th>2.mesto</th>\n",
       "      <td>3</td>\n",
       "      <td>3</td>\n",
       "    </tr>\n",
       "    <tr>\n",
       "      <th>3.mesto</th>\n",
       "      <td>5</td>\n",
       "      <td>1</td>\n",
       "    </tr>\n",
       "  </tbody>\n",
       "</table>\n",
       "</div>"
      ],
      "text/plain": [
       "         KEN  ETH\n",
       "1.mesto    4    2\n",
       "2.mesto    3    3\n",
       "3.mesto    5    1"
      ]
     },
     "execution_count": 12,
     "metadata": {},
     "output_type": "execute_result"
    }
   ],
   "source": [
    "pd.DataFrame.from_dict(najboljsi, 'index')"
   ]
  },
  {
   "cell_type": "markdown",
   "metadata": {
    "collapsed": true
   },
   "source": [
    "Tabela nam pove, da v vseh treh letih nikoli ni zmagal slovenec, temveč kenijec ali etiopijec."
   ]
  },
  {
   "cell_type": "markdown",
   "metadata": {
    "collapsed": true
   },
   "source": [
    "STATISTIKA GLEDE NA SPOL"
   ]
  },
  {
   "cell_type": "code",
   "execution_count": 13,
   "metadata": {
    "collapsed": true
   },
   "outputs": [],
   "source": [
    "stevilo_tekmovalcev = {'m21' : len(tab_moski21),\n",
    "'z21' : len(tab_zenske21),\n",
    "'m20' : len(tab_moski20),\n",
    "'z20' : len(tab_zenske20),\n",
    "'m19' : len(tab_moski19),\n",
    "'z19' : len(tab_zenske19)}"
   ]
  },
  {
   "cell_type": "code",
   "execution_count": 14,
   "metadata": {},
   "outputs": [
    {
     "data": {
      "text/html": [
       "<div>\n",
       "<style>\n",
       "    .dataframe thead tr:only-child th {\n",
       "        text-align: right;\n",
       "    }\n",
       "\n",
       "    .dataframe thead th {\n",
       "        text-align: left;\n",
       "    }\n",
       "\n",
       "    .dataframe tbody tr th {\n",
       "        vertical-align: top;\n",
       "    }\n",
       "</style>\n",
       "<table border=\"1\" class=\"dataframe\">\n",
       "  <thead>\n",
       "    <tr style=\"text-align: right;\">\n",
       "      <th></th>\n",
       "      <th>stevilo</th>\n",
       "    </tr>\n",
       "  </thead>\n",
       "  <tbody>\n",
       "    <tr>\n",
       "      <th>m21</th>\n",
       "      <td>1503</td>\n",
       "    </tr>\n",
       "    <tr>\n",
       "      <th>z21</th>\n",
       "      <td>371</td>\n",
       "    </tr>\n",
       "    <tr>\n",
       "      <th>m20</th>\n",
       "      <td>1642</td>\n",
       "    </tr>\n",
       "    <tr>\n",
       "      <th>z20</th>\n",
       "      <td>379</td>\n",
       "    </tr>\n",
       "    <tr>\n",
       "      <th>m19</th>\n",
       "      <td>1397</td>\n",
       "    </tr>\n",
       "    <tr>\n",
       "      <th>z19</th>\n",
       "      <td>349</td>\n",
       "    </tr>\n",
       "  </tbody>\n",
       "</table>\n",
       "</div>"
      ],
      "text/plain": [
       "     stevilo\n",
       "m21     1503\n",
       "z21      371\n",
       "m20     1642\n",
       "z20      379\n",
       "m19     1397\n",
       "z19      349"
      ]
     },
     "execution_count": 14,
     "metadata": {},
     "output_type": "execute_result"
    }
   ],
   "source": [
    "a = pd.DataFrame.from_dict(stevilo_tekmovalcev, 'index')\n",
    "a.columns = ['stevilo']\n",
    "a"
   ]
  },
  {
   "cell_type": "markdown",
   "metadata": {
    "collapsed": true
   },
   "source": [
    "Vidimo, da je stevilo tekmovalcev približno enako iz leta v leto, prav tako pa vidimo, da je moških tekmovalcev vsako\n",
    "leto priblizno trikrat toliko kot zensk."
   ]
  },
  {
   "cell_type": "code",
   "execution_count": 15,
   "metadata": {},
   "outputs": [
    {
     "data": {
      "text/plain": [
       "<matplotlib.axes._subplots.AxesSubplot at 0x2add35a6e48>"
      ]
     },
     "execution_count": 15,
     "metadata": {},
     "output_type": "execute_result"
    },
    {
     "data": {
      "image/png": "[encoded data removed]",
      "text/plain": [
       "<matplotlib.figure.Figure at 0x2add35a6518>"
      ]
     },
     "metadata": {},
     "output_type": "display_data"
    }
   ],
   "source": [
    "a.plot(kind = 'bar')"
   ]
  },
  {
   "cell_type": "markdown",
   "metadata": {
    "collapsed": true
   },
   "source": [
    "Kdo je boljši? Moški ali ženske?"
   ]
  },
  {
   "cell_type": "code",
   "execution_count": 17,
   "metadata": {
    "collapsed": true
   },
   "outputs": [],
   "source": [
    "l = {'cas.zenske21':tab_zenske21['netto_cas'], 'cas.zenske20':tab_zenske20['netto_cas'],\n",
    "    'cas.zenske19':tab_zenske19['netto_cas'], 'cas.moski21':tab_moski21['netto_cas'],\n",
    "    'cas.moski20':tab_moski20['netto_cas'],'cas.moski19':tab_moski19['netto_cas']}"
   ]
  },
  {
   "cell_type": "code",
   "execution_count": 18,
   "metadata": {},
   "outputs": [
    {
     "data": {
      "text/html": [
       "<div>\n",
       "<style>\n",
       "    .dataframe thead tr:only-child th {\n",
       "        text-align: right;\n",
       "    }\n",
       "\n",
       "    .dataframe thead th {\n",
       "        text-align: left;\n",
       "    }\n",
       "\n",
       "    .dataframe tbody tr th {\n",
       "        vertical-align: top;\n",
       "    }\n",
       "</style>\n",
       "<table border=\"1\" class=\"dataframe\">\n",
       "  <thead>\n",
       "    <tr style=\"text-align: right;\">\n",
       "      <th></th>\n",
       "      <th>cas.moski19</th>\n",
       "      <th>cas.moski20</th>\n",
       "      <th>cas.moski21</th>\n",
       "      <th>cas.zenske19</th>\n",
       "      <th>cas.zenske20</th>\n",
       "      <th>cas.zenske21</th>\n",
       "    </tr>\n",
       "  </thead>\n",
       "  <tbody>\n",
       "    <tr>\n",
       "      <th>0</th>\n",
       "      <td>2:08:25</td>\n",
       "      <td>2:08:19</td>\n",
       "      <td>2:09:16</td>\n",
       "      <td>2:29:16</td>\n",
       "      <td>2:25:42</td>\n",
       "      <td>2:29:32</td>\n",
       "    </tr>\n",
       "    <tr>\n",
       "      <th>1</th>\n",
       "      <td>2:08:37</td>\n",
       "      <td>2:08:37</td>\n",
       "      <td>2:09:19</td>\n",
       "      <td>2:32:29</td>\n",
       "      <td>2:30:36</td>\n",
       "      <td>2:30:53</td>\n",
       "    </tr>\n",
       "    <tr>\n",
       "      <th>2</th>\n",
       "      <td>2:09:04</td>\n",
       "      <td>2:08:59</td>\n",
       "      <td>2:09:37</td>\n",
       "      <td>2:33:34</td>\n",
       "      <td>2:33:58</td>\n",
       "      <td>2:31:05</td>\n",
       "    </tr>\n",
       "    <tr>\n",
       "      <th>3</th>\n",
       "      <td>2:10:16</td>\n",
       "      <td>2:09:54</td>\n",
       "      <td>2:09:47</td>\n",
       "      <td>2:35:00</td>\n",
       "      <td>2:39:40</td>\n",
       "      <td>2:31:42</td>\n",
       "    </tr>\n",
       "    <tr>\n",
       "      <th>4</th>\n",
       "      <td>2:10:17</td>\n",
       "      <td>2:11:20</td>\n",
       "      <td>2:10:18</td>\n",
       "      <td>2:36:02</td>\n",
       "      <td>2:49:33</td>\n",
       "      <td>2:31:45</td>\n",
       "    </tr>\n",
       "    <tr>\n",
       "      <th>5</th>\n",
       "      <td>2:10:26</td>\n",
       "      <td>2:12:32</td>\n",
       "      <td>2:10:29</td>\n",
       "      <td>2:40:42</td>\n",
       "      <td>3:00:25</td>\n",
       "      <td>2:32:27</td>\n",
       "    </tr>\n",
       "    <tr>\n",
       "      <th>6</th>\n",
       "      <td>2:14:54</td>\n",
       "      <td>2:15:29</td>\n",
       "      <td>2:11:04</td>\n",
       "      <td>2:49:11</td>\n",
       "      <td>3:09:16</td>\n",
       "      <td>2:54:59</td>\n",
       "    </tr>\n",
       "    <tr>\n",
       "      <th>7</th>\n",
       "      <td>2:19:31</td>\n",
       "      <td>2:17:10</td>\n",
       "      <td>2:11:05</td>\n",
       "      <td>2:56:39</td>\n",
       "      <td>3:09:57</td>\n",
       "      <td>2:59:00</td>\n",
       "    </tr>\n",
       "    <tr>\n",
       "      <th>8</th>\n",
       "      <td>2:21:05</td>\n",
       "      <td>2:20:30</td>\n",
       "      <td>2:24:59</td>\n",
       "      <td>2:57:34</td>\n",
       "      <td>3:12:07</td>\n",
       "      <td>3:01:57</td>\n",
       "    </tr>\n",
       "    <tr>\n",
       "      <th>9</th>\n",
       "      <td>2:24:21</td>\n",
       "      <td>2:20:53</td>\n",
       "      <td>2:34:16</td>\n",
       "      <td>3:01:19</td>\n",
       "      <td>3:13:27</td>\n",
       "      <td>3:07:55</td>\n",
       "    </tr>\n",
       "  </tbody>\n",
       "</table>\n",
       "</div>"
      ],
      "text/plain": [
       "  cas.moski19 cas.moski20 cas.moski21 cas.zenske19 cas.zenske20 cas.zenske21\n",
       "0     2:08:25     2:08:19     2:09:16      2:29:16      2:25:42      2:29:32\n",
       "1     2:08:37     2:08:37     2:09:19      2:32:29      2:30:36      2:30:53\n",
       "2     2:09:04     2:08:59     2:09:37      2:33:34      2:33:58      2:31:05\n",
       "3     2:10:16     2:09:54     2:09:47      2:35:00      2:39:40      2:31:42\n",
       "4     2:10:17     2:11:20     2:10:18      2:36:02      2:49:33      2:31:45\n",
       "5     2:10:26     2:12:32     2:10:29      2:40:42      3:00:25      2:32:27\n",
       "6     2:14:54     2:15:29     2:11:04      2:49:11      3:09:16      2:54:59\n",
       "7     2:19:31     2:17:10     2:11:05      2:56:39      3:09:57      2:59:00\n",
       "8     2:21:05     2:20:30     2:24:59      2:57:34      3:12:07      3:01:57\n",
       "9     2:24:21     2:20:53     2:34:16      3:01:19      3:13:27      3:07:55"
      ]
     },
     "execution_count": 18,
     "metadata": {},
     "output_type": "execute_result"
    }
   ],
   "source": [
    "casi = pd.DataFrame(l)[:10]\n",
    "casi"
   ]
  },
  {
   "cell_type": "markdown",
   "metadata": {
    "collapsed": true
   },
   "source": [
    "Pričakovani rezultati nam povejo, da imajo moški več moči in zato dosegajo boljše rezultate, zato je tudi smiselno da\n",
    "tekmujemo v ločenih kategorijah."
   ]
  },
  {
   "cell_type": "code",
   "execution_count": 19,
   "metadata": {
    "collapsed": true
   },
   "outputs": [],
   "source": [
    "def cas_v_sekunde(a):\n",
    "    cas = a.split(':')\n",
    "    ure = int(cas[0])\n",
    "    minute = int(cas[1])\n",
    "    sekunde = int(cas[2])\n",
    "    return sekunde + minute * 60 + ure * 3600"
   ]
  },
  {
   "cell_type": "code",
   "execution_count": 20,
   "metadata": {
    "collapsed": true
   },
   "outputs": [],
   "source": [
    "casi_v_sekundah = casi.applymap(cas_v_sekunde)"
   ]
  },
  {
   "cell_type": "code",
   "execution_count": 21,
   "metadata": {
    "collapsed": true
   },
   "outputs": [],
   "source": [
    "brez = casi_v_sekundah[1:]"
   ]
  },
  {
   "cell_type": "code",
   "execution_count": 22,
   "metadata": {
    "collapsed": true
   },
   "outputs": [],
   "source": [
    "prva_vrstica = (pd.DataFrame(casi_v_sekundah.iloc[0])).transpose()"
   ]
  },
  {
   "cell_type": "code",
   "execution_count": 23,
   "metadata": {
    "collapsed": true
   },
   "outputs": [],
   "source": [
    "naj_moski19 = prva_vrstica['cas.moski19'][0]\n",
    "naj_moski20 = prva_vrstica['cas.moski20'][0]\n",
    "naj_moski21 = prva_vrstica['cas.moski21'][0]\n",
    "naj_zenska19 = prva_vrstica['cas.zenske19'][0]\n",
    "naj_zenska20 = prva_vrstica['cas.zenske20'][0]\n",
    "naj_zenska21 = prva_vrstica['cas.zenske21'][0]"
   ]
  },
  {
   "cell_type": "code",
   "execution_count": 24,
   "metadata": {
    "collapsed": true
   },
   "outputs": [],
   "source": [
    "def razlika_v_sekundah1(cas):\n",
    "    return cas - naj_moski19\n",
    "def razlika_v_sekundah2(cas):\n",
    "    return cas - naj_moski20\n",
    "def razlika_v_sekundah3(cas):\n",
    "    return cas - naj_moski21\n",
    "def razlika_v_sekundah4(cas):\n",
    "    return cas - naj_zenska19\n",
    "def razlika_v_sekundah5(cas):\n",
    "    return cas - naj_zenska20\n",
    "def razlika_v_sekundah6(cas):\n",
    "    return cas - naj_zenska21"
   ]
  },
  {
   "cell_type": "code",
   "execution_count": 25,
   "metadata": {},
   "outputs": [
    {
     "name": "stderr",
     "output_type": "stream",
     "text": [
      "C:\\Users\\Acer\\Anaconda3\\lib\\site-packages\\ipykernel_launcher.py:1: SettingWithCopyWarning: \n",
      "A value is trying to be set on a copy of a slice from a DataFrame.\n",
      "Try using .loc[row_indexer,col_indexer] = value instead\n",
      "\n",
      "See the caveats in the documentation: http://pandas.pydata.org/pandas-docs/stable/indexing.html#indexing-view-versus-copy\n",
      "  \"\"\"Entry point for launching an IPython kernel.\n",
      "C:\\Users\\Acer\\Anaconda3\\lib\\site-packages\\ipykernel_launcher.py:2: SettingWithCopyWarning: \n",
      "A value is trying to be set on a copy of a slice from a DataFrame.\n",
      "Try using .loc[row_indexer,col_indexer] = value instead\n",
      "\n",
      "See the caveats in the documentation: http://pandas.pydata.org/pandas-docs/stable/indexing.html#indexing-view-versus-copy\n",
      "  \n",
      "C:\\Users\\Acer\\Anaconda3\\lib\\site-packages\\ipykernel_launcher.py:3: SettingWithCopyWarning: \n",
      "A value is trying to be set on a copy of a slice from a DataFrame.\n",
      "Try using .loc[row_indexer,col_indexer] = value instead\n",
      "\n",
      "See the caveats in the documentation: http://pandas.pydata.org/pandas-docs/stable/indexing.html#indexing-view-versus-copy\n",
      "  This is separate from the ipykernel package so we can avoid doing imports until\n",
      "C:\\Users\\Acer\\Anaconda3\\lib\\site-packages\\ipykernel_launcher.py:4: SettingWithCopyWarning: \n",
      "A value is trying to be set on a copy of a slice from a DataFrame.\n",
      "Try using .loc[row_indexer,col_indexer] = value instead\n",
      "\n",
      "See the caveats in the documentation: http://pandas.pydata.org/pandas-docs/stable/indexing.html#indexing-view-versus-copy\n",
      "  after removing the cwd from sys.path.\n",
      "C:\\Users\\Acer\\Anaconda3\\lib\\site-packages\\ipykernel_launcher.py:5: SettingWithCopyWarning: \n",
      "A value is trying to be set on a copy of a slice from a DataFrame.\n",
      "Try using .loc[row_indexer,col_indexer] = value instead\n",
      "\n",
      "See the caveats in the documentation: http://pandas.pydata.org/pandas-docs/stable/indexing.html#indexing-view-versus-copy\n",
      "  \"\"\"\n",
      "C:\\Users\\Acer\\Anaconda3\\lib\\site-packages\\ipykernel_launcher.py:6: SettingWithCopyWarning: \n",
      "A value is trying to be set on a copy of a slice from a DataFrame.\n",
      "Try using .loc[row_indexer,col_indexer] = value instead\n",
      "\n",
      "See the caveats in the documentation: http://pandas.pydata.org/pandas-docs/stable/indexing.html#indexing-view-versus-copy\n",
      "  \n"
     ]
    }
   ],
   "source": [
    "brez['cas.moski19'] = brez['cas.moski19'].apply(razlika_v_sekundah1)\n",
    "brez['cas.moski20'] = brez['cas.moski20'].apply(razlika_v_sekundah2)\n",
    "brez['cas.moski21'] = brez['cas.moski21'].apply(razlika_v_sekundah3)\n",
    "brez['cas.zenske19'] = brez['cas.zenske19'].apply(razlika_v_sekundah4)\n",
    "brez['cas.zenske20'] = brez['cas.zenske20'].apply(razlika_v_sekundah5)\n",
    "brez['cas.zenske21'] = brez['cas.zenske21'].apply(razlika_v_sekundah6)"
   ]
  },
  {
   "cell_type": "code",
   "execution_count": 26,
   "metadata": {
    "collapsed": true
   },
   "outputs": [],
   "source": [
    "tabela_zaostankov = prva_vrstica.append(brez)"
   ]
  },
  {
   "cell_type": "code",
   "execution_count": 27,
   "metadata": {
    "collapsed": true
   },
   "outputs": [],
   "source": [
    "def sekunde_v_cas(n):\n",
    "    if n >= 3600:\n",
    "        ure = n//3600\n",
    "        minute = (n - ure*3600) // 60\n",
    "        sekunde = n - ure * 3600 - minute * 60\n",
    "    elif n >= 60:\n",
    "        ure = 0\n",
    "        minute = n//60\n",
    "        sekunde = n - minute * 60\n",
    "    else:\n",
    "        ure = 0\n",
    "        minute = 0\n",
    "        sekunde = n\n",
    "        \n",
    "    return str(ure) + ':' + str(minute) + ':' + str(sekunde)\n"
   ]
  },
  {
   "cell_type": "code",
   "execution_count": 28,
   "metadata": {},
   "outputs": [
    {
     "data": {
      "text/html": [
       "<div>\n",
       "<style>\n",
       "    .dataframe thead tr:only-child th {\n",
       "        text-align: right;\n",
       "    }\n",
       "\n",
       "    .dataframe thead th {\n",
       "        text-align: left;\n",
       "    }\n",
       "\n",
       "    .dataframe tbody tr th {\n",
       "        vertical-align: top;\n",
       "    }\n",
       "</style>\n",
       "<table border=\"1\" class=\"dataframe\">\n",
       "  <thead>\n",
       "    <tr style=\"text-align: right;\">\n",
       "      <th></th>\n",
       "      <th>cas.moski19</th>\n",
       "      <th>cas.moski20</th>\n",
       "      <th>cas.moski21</th>\n",
       "      <th>cas.zenske19</th>\n",
       "      <th>cas.zenske20</th>\n",
       "      <th>cas.zenske21</th>\n",
       "    </tr>\n",
       "  </thead>\n",
       "  <tbody>\n",
       "    <tr>\n",
       "      <th>0</th>\n",
       "      <td>2:8:25</td>\n",
       "      <td>2:8:19</td>\n",
       "      <td>2:9:16</td>\n",
       "      <td>2:29:16</td>\n",
       "      <td>2:25:42</td>\n",
       "      <td>2:29:32</td>\n",
       "    </tr>\n",
       "    <tr>\n",
       "      <th>1</th>\n",
       "      <td>0:0:12</td>\n",
       "      <td>0:0:18</td>\n",
       "      <td>0:0:3</td>\n",
       "      <td>0:3:13</td>\n",
       "      <td>0:4:54</td>\n",
       "      <td>0:1:21</td>\n",
       "    </tr>\n",
       "    <tr>\n",
       "      <th>2</th>\n",
       "      <td>0:0:39</td>\n",
       "      <td>0:0:40</td>\n",
       "      <td>0:0:21</td>\n",
       "      <td>0:4:18</td>\n",
       "      <td>0:8:16</td>\n",
       "      <td>0:1:33</td>\n",
       "    </tr>\n",
       "    <tr>\n",
       "      <th>3</th>\n",
       "      <td>0:1:51</td>\n",
       "      <td>0:1:35</td>\n",
       "      <td>0:0:31</td>\n",
       "      <td>0:5:44</td>\n",
       "      <td>0:13:58</td>\n",
       "      <td>0:2:10</td>\n",
       "    </tr>\n",
       "    <tr>\n",
       "      <th>4</th>\n",
       "      <td>0:1:52</td>\n",
       "      <td>0:3:1</td>\n",
       "      <td>0:1:2</td>\n",
       "      <td>0:6:46</td>\n",
       "      <td>0:23:51</td>\n",
       "      <td>0:2:13</td>\n",
       "    </tr>\n",
       "    <tr>\n",
       "      <th>5</th>\n",
       "      <td>0:2:1</td>\n",
       "      <td>0:4:13</td>\n",
       "      <td>0:1:13</td>\n",
       "      <td>0:11:26</td>\n",
       "      <td>0:34:43</td>\n",
       "      <td>0:2:55</td>\n",
       "    </tr>\n",
       "    <tr>\n",
       "      <th>6</th>\n",
       "      <td>0:6:29</td>\n",
       "      <td>0:7:10</td>\n",
       "      <td>0:1:48</td>\n",
       "      <td>0:19:55</td>\n",
       "      <td>0:43:34</td>\n",
       "      <td>0:25:27</td>\n",
       "    </tr>\n",
       "    <tr>\n",
       "      <th>7</th>\n",
       "      <td>0:11:6</td>\n",
       "      <td>0:8:51</td>\n",
       "      <td>0:1:49</td>\n",
       "      <td>0:27:23</td>\n",
       "      <td>0:44:15</td>\n",
       "      <td>0:29:28</td>\n",
       "    </tr>\n",
       "    <tr>\n",
       "      <th>8</th>\n",
       "      <td>0:12:40</td>\n",
       "      <td>0:12:11</td>\n",
       "      <td>0:15:43</td>\n",
       "      <td>0:28:18</td>\n",
       "      <td>0:46:25</td>\n",
       "      <td>0:32:25</td>\n",
       "    </tr>\n",
       "    <tr>\n",
       "      <th>9</th>\n",
       "      <td>0:15:56</td>\n",
       "      <td>0:12:34</td>\n",
       "      <td>0:25:0</td>\n",
       "      <td>0:32:3</td>\n",
       "      <td>0:47:45</td>\n",
       "      <td>0:38:23</td>\n",
       "    </tr>\n",
       "  </tbody>\n",
       "</table>\n",
       "</div>"
      ],
      "text/plain": [
       "  cas.moski19 cas.moski20 cas.moski21 cas.zenske19 cas.zenske20 cas.zenske21\n",
       "0      2:8:25      2:8:19      2:9:16      2:29:16      2:25:42      2:29:32\n",
       "1      0:0:12      0:0:18       0:0:3       0:3:13       0:4:54       0:1:21\n",
       "2      0:0:39      0:0:40      0:0:21       0:4:18       0:8:16       0:1:33\n",
       "3      0:1:51      0:1:35      0:0:31       0:5:44      0:13:58       0:2:10\n",
       "4      0:1:52       0:3:1       0:1:2       0:6:46      0:23:51       0:2:13\n",
       "5       0:2:1      0:4:13      0:1:13      0:11:26      0:34:43       0:2:55\n",
       "6      0:6:29      0:7:10      0:1:48      0:19:55      0:43:34      0:25:27\n",
       "7      0:11:6      0:8:51      0:1:49      0:27:23      0:44:15      0:29:28\n",
       "8     0:12:40     0:12:11     0:15:43      0:28:18      0:46:25      0:32:25\n",
       "9     0:15:56     0:12:34      0:25:0       0:32:3      0:47:45      0:38:23"
      ]
     },
     "execution_count": 28,
     "metadata": {},
     "output_type": "execute_result"
    }
   ],
   "source": [
    "tabela_zaostankov.applymap(sekunde_v_cas)"
   ]
  },
  {
   "cell_type": "markdown",
   "metadata": {
    "collapsed": true
   },
   "source": [
    "Zgoraj je prikazana tabela zaostankov po posametnih letih in spolih. Vidimo lahko da je skupina moških veliko bolj strnjena,\n",
    "medtem ko ženska ni, saj vidimo da imajo precej večji zaostanek za prvim (oziroma razmak med posameznim) tekmovalcem."
   ]
  },
  {
   "cell_type": "markdown",
   "metadata": {
    "collapsed": true
   },
   "source": [
    "Nekateri tekmovalci se s tekom ukvarjajo vse življenje. Eno leto so boljši, drugo slabši, nekateri pa odtečejo en maraton in \n",
    "se s tem ne ukvarjajo več. Uprašanje je, ali tekmovalci ki tečejo več let, ohranjajo formo, ali so vsako leto boljši?"
   ]
  },
  {
   "cell_type": "code",
   "execution_count": 29,
   "metadata": {
    "collapsed": true
   },
   "outputs": [],
   "source": [
    "def tekmovalci(tab):\n",
    "    tek = {}\n",
    "    for tabela in tab:\n",
    "        indeks = -1\n",
    "        for tekmovalec in tabela['ime']:\n",
    "            indeks += 1\n",
    "            if tekmovalec in tek.keys():\n",
    "                tek[tekmovalec].append(tabela.iloc[indeks,:]['netto_cas'])\n",
    "            else:\n",
    "                tek[tekmovalec] = [tabela.iloc[indeks,:]['netto_cas']]\n",
    "    return tek\n",
    "tekmovalci_moski = tekmovalci([tab_moski19, tab_moski20, tab_moski21])\n",
    "tekmovalci_zenske = tekmovalci([tab_zenske19, tab_zenske20, tab_zenske21])"
   ]
  },
  {
   "cell_type": "code",
   "execution_count": 30,
   "metadata": {
    "collapsed": true
   },
   "outputs": [],
   "source": [
    "ponavljajoci_moski = {}\n",
    "for tekmovalec in tekmovalci_moski:\n",
    "    if len(tekmovalci_moski[tekmovalec]) == 3:\n",
    "        ponavljajoci_moski[tekmovalec] = tekmovalci_moski[tekmovalec]\n",
    "    else:\n",
    "        pass\n",
    "ponavljajoci_zenske = {}\n",
    "for tekmovalec in tekmovalci_zenske:\n",
    "    if len(tekmovalci_zenske[tekmovalec]) == 3:\n",
    "        ponavljajoci_zenske[tekmovalec] = tekmovalci_zenske[tekmovalec]\n",
    "    else:\n",
    "        pass"
   ]
  },
  {
   "cell_type": "code",
   "execution_count": 31,
   "metadata": {},
   "outputs": [
    {
     "data": {
      "text/plain": [
       "<matplotlib.axes._subplots.AxesSubplot at 0x2add30e8898>"
      ]
     },
     "execution_count": 31,
     "metadata": {},
     "output_type": "execute_result"
    },
    {
     "data": {
      "image/png": "[encoded data removed]",
      "text/plain": [
       "<matplotlib.figure.Figure at 0x2add30c7860>"
      ]
     },
     "metadata": {},
     "output_type": "display_data"
    }
   ],
   "source": [
    "pd.DataFrame.from_dict({'ponavljajoci_moski' : len(ponavljajoci_moski), 'ponavljajoci_zenske' : len(ponavljajoci_zenske)}, 'index' ).plot(kind = 'bar')"
   ]
  },
  {
   "cell_type": "markdown",
   "metadata": {
    "collapsed": true
   },
   "source": [
    "Iz grafa takoj opazimo, da je več moških, ki obiskujejo maraton več let, kot žensk."
   ]
  },
  {
   "cell_type": "markdown",
   "metadata": {
    "collapsed": true
   },
   "source": [
    "LETNICA ROJSTVA"
   ]
  },
  {
   "cell_type": "code",
   "execution_count": 32,
   "metadata": {
    "collapsed": true
   },
   "outputs": [],
   "source": [
    "def popravi_letnico(letnica):\n",
    "    return 1900 + letnica\n",
    "tab_moski19['letnica_rojstva'] = tab_moski19['letnica_rojstva'].map(popravi_letnico)\n",
    "tab_zenske19['letnica_rojstva'] = tab_zenske19['letnica_rojstva'].map(popravi_letnico)"
   ]
  },
  {
   "cell_type": "code",
   "execution_count": 33,
   "metadata": {
    "collapsed": true
   },
   "outputs": [],
   "source": [
    "stevilo_letnic = {'moski19' : tab_moski19['letnica_rojstva'].value_counts(),\n",
    "      'moski20':tab_moski20['letnica_rojstva'].value_counts(),\n",
    "      'moski21': tab_moski19['letnica_rojstva'].value_counts(),\n",
    "      'zenske19': tab_zenske19['letnica_rojstva'].value_counts(),\n",
    "      'zenske20': tab_zenske20['letnica_rojstva'].value_counts(),\n",
    "      'zenske21': tab_zenske21['letnica_rojstva'].value_counts()}"
   ]
  },
  {
   "cell_type": "code",
   "execution_count": 34,
   "metadata": {},
   "outputs": [
    {
     "data": {
      "text/plain": [
       "<matplotlib.axes._subplots.AxesSubplot at 0x2add31e13c8>"
      ]
     },
     "execution_count": 34,
     "metadata": {},
     "output_type": "execute_result"
    },
    {
     "data": {
      "image/png": "[encoded data removed]",
      "text/plain": [
       "<matplotlib.figure.Figure at 0x2add31bb668>"
      ]
     },
     "metadata": {},
     "output_type": "display_data"
    }
   ],
   "source": [
    "pd.DataFrame(stevilo_letnic).plot(figsize = (10,5))"
   ]
  },
  {
   "cell_type": "markdown",
   "metadata": {},
   "source": [
    "Rezultati so pričakovani, največ tekmovalcev prihaja in sredinske starostne skupine. Le malo je starejših ljudi, ki se ukvarjajo s tekom."
   ]
  },
  {
   "cell_type": "code",
   "execution_count": 35,
   "metadata": {
    "collapsed": true
   },
   "outputs": [],
   "source": [
    "def sekunde_v_cas(n):\n",
    "    if n >= 3600:\n",
    "        ure = n//3600\n",
    "        minute = (n - ure*3600) // 60\n",
    "        sekunde = n - ure * 3600 - minute * 60\n",
    "    elif n >= 60:\n",
    "        ure = 0\n",
    "        minute = n//60\n",
    "        sekunde = n - minute * 60\n",
    "    else:\n",
    "        ure = 0\n",
    "        minute = 0\n",
    "        sekunde = n\n",
    "        \n",
    "    return str(ure) + ':' + str(minute) + ':' + str(sekunde)"
   ]
  },
  {
   "cell_type": "code",
   "execution_count": 36,
   "metadata": {
    "collapsed": true
   },
   "outputs": [],
   "source": [
    "def dokoncali_tek(slov):\n",
    "    dokoncali_tek = {}\n",
    "    for tek in slov.keys():\n",
    "        if 'DNF' in slov[tek]:\n",
    "            pass\n",
    "        else:\n",
    "            dokoncali_tek[tek] = slov[tek]\n",
    "    return dokoncali_tek\n",
    "        \n",
    "'''zenske, ki so dokončale vse tri maratone'''\n",
    "zenske3maratoni = dokoncali_tek(ponavljajoci_zenske)\n",
    "'''moski, ki so končali vse tri maratone'''\n",
    "moski3maratoni = dokoncali_tek(ponavljajoci_moski)"
   ]
  },
  {
   "cell_type": "code",
   "execution_count": 37,
   "metadata": {
    "collapsed": true
   },
   "outputs": [],
   "source": [
    "'''funkcija ki glede na dano ime poišče uvrstitev'''\n",
    "\n",
    "def uvrstitev(ime, tabela):\n",
    "    try:\n",
    "        a = (tabela.groupby('ime').mean())['mesto'][ime]\n",
    "        return a\n",
    "    except KeyError:\n",
    "        return None\n",
    "    \n",
    "def najboljsa_uvrstitev(ime, tab):\n",
    "    use = []\n",
    "    for tabela in tab:\n",
    "        a = uvrstitev(ime,tabela)\n",
    "        if a == None:\n",
    "            pass\n",
    "        else:\n",
    "            use.append(a)\n",
    "    return max(use)"
   ]
  },
  {
   "cell_type": "code",
   "execution_count": 38,
   "metadata": {
    "collapsed": true
   },
   "outputs": [],
   "source": [
    "def povprecje(casi):\n",
    "    povprecje = 0\n",
    "    for rezultat in casi:\n",
    "        povprecje += cas_v_sekunde(rezultat)\n",
    "    povprecje = povprecje // 3\n",
    "    return povprecje\n",
    "\n",
    "def tabela_povprecij(slov):\n",
    "    slov_povprecij = {}\n",
    "    for tekmovalec in slov.keys():\n",
    "        povprečje = povprecje(slov[tekmovalec])\n",
    "        slov_povprecij[tekmovalec] = povprečje\n",
    "    return pd.DataFrame.from_dict(slov_povprecij, 'index')"
   ]
  },
  {
   "cell_type": "code",
   "execution_count": 39,
   "metadata": {
    "collapsed": true
   },
   "outputs": [],
   "source": [
    "povprecje_zenske = (tabela_povprecij(zenske3maratoni)).applymap(sekunde_v_cas)\n",
    "'''povprečje časov, ki so ga dosegle na treh maratonih'''\n",
    "\n",
    "povprecje_zenske.columns= ['povprečje časov']\n",
    "\n",
    "\n",
    "povprecje_moski = (tabela_povprecij(moski3maratoni)).applymap(sekunde_v_cas)\n",
    "povprecje_moski.columns = ['povprečje časov']"
   ]
  },
  {
   "cell_type": "code",
   "execution_count": 40,
   "metadata": {
    "collapsed": true
   },
   "outputs": [],
   "source": [
    "'''najboljša uvrstitev tekmovalcev, ki so bili na vseh treh maratonih'''\n",
    "def vse_naj_uvrstitve(slov, tab):\n",
    "    uvrstitve = {}\n",
    "    for tekmovalec in slov.keys():\n",
    "        naj_uvrstitev = najboljsa_uvrstitev(tekmovalec, tab)\n",
    "        uvrstitve[tekmovalec] = naj_uvrstitev\n",
    "    return uvrstitve\n",
    "tabela_naj_uvrstitev_z = pd.DataFrame.from_dict(vse_naj_uvrstitve(zenske3maratoni, [tab_zenske19, tab_zenske20, tab_zenske21]), 'index')\n",
    "tabela_naj_uvrstitev_z.columns = ['najboljša uvrstitev']\n",
    "\n",
    "tabela_naj_uvrstitev_m = pd.DataFrame.from_dict(vse_naj_uvrstitve(moski3maratoni, [tab_moski19, tab_moski20, tab_moski21]), 'index')\n",
    "tabela_naj_uvrstitev_m.columns = ['najboljša uvrstitev']"
   ]
  },
  {
   "cell_type": "code",
   "execution_count": 41,
   "metadata": {},
   "outputs": [
    {
     "data": {
      "text/html": [
       "<div>\n",
       "<style>\n",
       "    .dataframe thead tr:only-child th {\n",
       "        text-align: right;\n",
       "    }\n",
       "\n",
       "    .dataframe thead th {\n",
       "        text-align: left;\n",
       "    }\n",
       "\n",
       "    .dataframe tbody tr th {\n",
       "        vertical-align: top;\n",
       "    }\n",
       "</style>\n",
       "<table border=\"1\" class=\"dataframe\">\n",
       "  <thead>\n",
       "    <tr style=\"text-align: right;\">\n",
       "      <th></th>\n",
       "      <th>najboljša uvrstitev</th>\n",
       "      <th>povprečje časov</th>\n",
       "    </tr>\n",
       "  </thead>\n",
       "  <tbody>\n",
       "    <tr>\n",
       "      <th>Ocepek Martin</th>\n",
       "      <td>19.0</td>\n",
       "      <td>2:38:4</td>\n",
       "    </tr>\n",
       "    <tr>\n",
       "      <th>Senica Vid</th>\n",
       "      <td>24.0</td>\n",
       "      <td>2:41:24</td>\n",
       "    </tr>\n",
       "    <tr>\n",
       "      <th>Tratnik Marko</th>\n",
       "      <td>22.0</td>\n",
       "      <td>2:39:57</td>\n",
       "    </tr>\n",
       "    <tr>\n",
       "      <th>Jost Vinko</th>\n",
       "      <td>34.0</td>\n",
       "      <td>2:48:21</td>\n",
       "    </tr>\n",
       "    <tr>\n",
       "      <th>Kralj Uroš</th>\n",
       "      <td>86.0</td>\n",
       "      <td>2:53:50</td>\n",
       "    </tr>\n",
       "    <tr>\n",
       "      <th>Hasanović Izudin</th>\n",
       "      <td>66.0</td>\n",
       "      <td>2:55:44</td>\n",
       "    </tr>\n",
       "    <tr>\n",
       "      <th>Kočar Sašo</th>\n",
       "      <td>145.0</td>\n",
       "      <td>3:0:10</td>\n",
       "    </tr>\n",
       "    <tr>\n",
       "      <th>Gregorc Gregor</th>\n",
       "      <td>57.0</td>\n",
       "      <td>2:53:56</td>\n",
       "    </tr>\n",
       "    <tr>\n",
       "      <th>Majcen Marjan</th>\n",
       "      <td>59.0</td>\n",
       "      <td>2:55:34</td>\n",
       "    </tr>\n",
       "    <tr>\n",
       "      <th>Alt Marjan</th>\n",
       "      <td>98.0</td>\n",
       "      <td>2:58:38</td>\n",
       "    </tr>\n",
       "    <tr>\n",
       "      <th>Erlah Jurij</th>\n",
       "      <td>88.0</td>\n",
       "      <td>2:58:52</td>\n",
       "    </tr>\n",
       "    <tr>\n",
       "      <th>Sitar Denis</th>\n",
       "      <td>253.0</td>\n",
       "      <td>3:7:12</td>\n",
       "    </tr>\n",
       "    <tr>\n",
       "      <th>Meglič Marko</th>\n",
       "      <td>530.0</td>\n",
       "      <td>3:8:6</td>\n",
       "    </tr>\n",
       "    <tr>\n",
       "      <th>Zaletelj Aljaž</th>\n",
       "      <td>82.0</td>\n",
       "      <td>2:53:56</td>\n",
       "    </tr>\n",
       "    <tr>\n",
       "      <th>Kimovec Miha</th>\n",
       "      <td>183.0</td>\n",
       "      <td>3:5:30</td>\n",
       "    </tr>\n",
       "    <tr>\n",
       "      <th>Potočnik Boštjan</th>\n",
       "      <td>93.0</td>\n",
       "      <td>3:0:19</td>\n",
       "    </tr>\n",
       "    <tr>\n",
       "      <th>Cipot Boštjan</th>\n",
       "      <td>88.0</td>\n",
       "      <td>2:57:25</td>\n",
       "    </tr>\n",
       "    <tr>\n",
       "      <th>Gider Matej</th>\n",
       "      <td>175.0</td>\n",
       "      <td>3:5:12</td>\n",
       "    </tr>\n",
       "    <tr>\n",
       "      <th>Mrak Dušan</th>\n",
       "      <td>97.0</td>\n",
       "      <td>2:55:56</td>\n",
       "    </tr>\n",
       "    <tr>\n",
       "      <th>Posedi Boštjan</th>\n",
       "      <td>132.0</td>\n",
       "      <td>3:3:34</td>\n",
       "    </tr>\n",
       "    <tr>\n",
       "      <th>Trojer Andrej</th>\n",
       "      <td>112.0</td>\n",
       "      <td>2:55:48</td>\n",
       "    </tr>\n",
       "    <tr>\n",
       "      <th>Sever Sandi</th>\n",
       "      <td>341.0</td>\n",
       "      <td>3:12:10</td>\n",
       "    </tr>\n",
       "    <tr>\n",
       "      <th>Gačnik Boštjan</th>\n",
       "      <td>269.0</td>\n",
       "      <td>3:8:55</td>\n",
       "    </tr>\n",
       "    <tr>\n",
       "      <th>Ožbolt Janez</th>\n",
       "      <td>125.0</td>\n",
       "      <td>3:1:30</td>\n",
       "    </tr>\n",
       "    <tr>\n",
       "      <th>Otoničar Jože</th>\n",
       "      <td>126.0</td>\n",
       "      <td>3:5:41</td>\n",
       "    </tr>\n",
       "    <tr>\n",
       "      <th>Cerkovnik Matej</th>\n",
       "      <td>134.0</td>\n",
       "      <td>3:4:47</td>\n",
       "    </tr>\n",
       "    <tr>\n",
       "      <th>Omejc Iztok</th>\n",
       "      <td>182.0</td>\n",
       "      <td>3:9:17</td>\n",
       "    </tr>\n",
       "    <tr>\n",
       "      <th>Kodelja Andrej</th>\n",
       "      <td>137.0</td>\n",
       "      <td>3:4:38</td>\n",
       "    </tr>\n",
       "    <tr>\n",
       "      <th>Kopič David</th>\n",
       "      <td>141.0</td>\n",
       "      <td>3:4:20</td>\n",
       "    </tr>\n",
       "    <tr>\n",
       "      <th>Jeler Milan</th>\n",
       "      <td>375.0</td>\n",
       "      <td>3:15:56</td>\n",
       "    </tr>\n",
       "    <tr>\n",
       "      <th>...</th>\n",
       "      <td>...</td>\n",
       "      <td>...</td>\n",
       "    </tr>\n",
       "    <tr>\n",
       "      <th>Jordanov Vlado</th>\n",
       "      <td>1623.0</td>\n",
       "      <td>4:42:5</td>\n",
       "    </tr>\n",
       "    <tr>\n",
       "      <th>Milič Dušan</th>\n",
       "      <td>1509.0</td>\n",
       "      <td>4:26:10</td>\n",
       "    </tr>\n",
       "    <tr>\n",
       "      <th>Krejan Robert</th>\n",
       "      <td>1285.0</td>\n",
       "      <td>4:9:2</td>\n",
       "    </tr>\n",
       "    <tr>\n",
       "      <th>Koren Rok</th>\n",
       "      <td>1297.0</td>\n",
       "      <td>4:14:35</td>\n",
       "    </tr>\n",
       "    <tr>\n",
       "      <th>Pavše Uroš</th>\n",
       "      <td>1427.0</td>\n",
       "      <td>4:14:30</td>\n",
       "    </tr>\n",
       "    <tr>\n",
       "      <th>Poljanec Dejan</th>\n",
       "      <td>1304.0</td>\n",
       "      <td>3:59:38</td>\n",
       "    </tr>\n",
       "    <tr>\n",
       "      <th>Zemljič Heliodor</th>\n",
       "      <td>1459.0</td>\n",
       "      <td>4:29:18</td>\n",
       "    </tr>\n",
       "    <tr>\n",
       "      <th>Rajh Zlatko</th>\n",
       "      <td>1317.0</td>\n",
       "      <td>3:47:50</td>\n",
       "    </tr>\n",
       "    <tr>\n",
       "      <th>Ladan Martin</th>\n",
       "      <td>1336.0</td>\n",
       "      <td>4:17:34</td>\n",
       "    </tr>\n",
       "    <tr>\n",
       "      <th>Povše Marjan</th>\n",
       "      <td>1399.0</td>\n",
       "      <td>4:22:40</td>\n",
       "    </tr>\n",
       "    <tr>\n",
       "      <th>Cehner Slavko</th>\n",
       "      <td>1476.0</td>\n",
       "      <td>4:19:25</td>\n",
       "    </tr>\n",
       "    <tr>\n",
       "      <th>Bojić Dejan</th>\n",
       "      <td>1438.0</td>\n",
       "      <td>4:31:58</td>\n",
       "    </tr>\n",
       "    <tr>\n",
       "      <th>Pavletić Slaven</th>\n",
       "      <td>1687.0</td>\n",
       "      <td>4:48:19</td>\n",
       "    </tr>\n",
       "    <tr>\n",
       "      <th>Josipović Matko</th>\n",
       "      <td>1571.0</td>\n",
       "      <td>4:34:43</td>\n",
       "    </tr>\n",
       "    <tr>\n",
       "      <th>Vidic Tadej</th>\n",
       "      <td>1627.0</td>\n",
       "      <td>4:39:18</td>\n",
       "    </tr>\n",
       "    <tr>\n",
       "      <th>Zobavnik Igor</th>\n",
       "      <td>1496.0</td>\n",
       "      <td>4:35:31</td>\n",
       "    </tr>\n",
       "    <tr>\n",
       "      <th>Tomažič Andrej</th>\n",
       "      <td>1500.0</td>\n",
       "      <td>4:34:9</td>\n",
       "    </tr>\n",
       "    <tr>\n",
       "      <th>Brnobič Veljano</th>\n",
       "      <td>1396.0</td>\n",
       "      <td>4:21:25</td>\n",
       "    </tr>\n",
       "    <tr>\n",
       "      <th>Keršmanc Jernej</th>\n",
       "      <td>1443.0</td>\n",
       "      <td>4:28:0</td>\n",
       "    </tr>\n",
       "    <tr>\n",
       "      <th>Agnič Robert</th>\n",
       "      <td>1408.0</td>\n",
       "      <td>4:1:51</td>\n",
       "    </tr>\n",
       "    <tr>\n",
       "      <th>Grosek Karl</th>\n",
       "      <td>1432.0</td>\n",
       "      <td>4:18:9</td>\n",
       "    </tr>\n",
       "    <tr>\n",
       "      <th>Omerčević Dušan</th>\n",
       "      <td>1568.0</td>\n",
       "      <td>4:39:17</td>\n",
       "    </tr>\n",
       "    <tr>\n",
       "      <th>Filipič Zdenko</th>\n",
       "      <td>1456.0</td>\n",
       "      <td>4:17:20</td>\n",
       "    </tr>\n",
       "    <tr>\n",
       "      <th>Devčić Berislav</th>\n",
       "      <td>1578.0</td>\n",
       "      <td>4:49:4</td>\n",
       "    </tr>\n",
       "    <tr>\n",
       "      <th>Kajzer Janez</th>\n",
       "      <td>1478.0</td>\n",
       "      <td>4:19:21</td>\n",
       "    </tr>\n",
       "    <tr>\n",
       "      <th>Evačić Juraj</th>\n",
       "      <td>1548.0</td>\n",
       "      <td>4:49:5</td>\n",
       "    </tr>\n",
       "    <tr>\n",
       "      <th>Jež Roman</th>\n",
       "      <td>1494.0</td>\n",
       "      <td>4:7:50</td>\n",
       "    </tr>\n",
       "    <tr>\n",
       "      <th>Hočevar Marko</th>\n",
       "      <td>1497.0</td>\n",
       "      <td>4:41:25</td>\n",
       "    </tr>\n",
       "    <tr>\n",
       "      <th>Potokar Samo</th>\n",
       "      <td>1498.0</td>\n",
       "      <td>4:49:15</td>\n",
       "    </tr>\n",
       "    <tr>\n",
       "      <th>Rogelj Rok</th>\n",
       "      <td>610.0</td>\n",
       "      <td>3:38:9</td>\n",
       "    </tr>\n",
       "  </tbody>\n",
       "</table>\n",
       "<p>260 rows × 2 columns</p>\n",
       "</div>"
      ],
      "text/plain": [
       "                  najboljša uvrstitev povprečje časov\n",
       "Ocepek Martin                    19.0          2:38:4\n",
       "Senica Vid                       24.0         2:41:24\n",
       "Tratnik Marko                    22.0         2:39:57\n",
       "Jost Vinko                       34.0         2:48:21\n",
       "Kralj Uroš                       86.0         2:53:50\n",
       "Hasanović Izudin                 66.0         2:55:44\n",
       "Kočar Sašo                      145.0          3:0:10\n",
       "Gregorc Gregor                   57.0         2:53:56\n",
       "Majcen Marjan                    59.0         2:55:34\n",
       "Alt Marjan                       98.0         2:58:38\n",
       "Erlah Jurij                      88.0         2:58:52\n",
       "Sitar Denis                     253.0          3:7:12\n",
       "Meglič Marko                    530.0           3:8:6\n",
       "Zaletelj Aljaž                   82.0         2:53:56\n",
       "Kimovec Miha                    183.0          3:5:30\n",
       "Potočnik Boštjan                 93.0          3:0:19\n",
       "Cipot Boštjan                    88.0         2:57:25\n",
       "Gider Matej                     175.0          3:5:12\n",
       "Mrak Dušan                       97.0         2:55:56\n",
       "Posedi Boštjan                  132.0          3:3:34\n",
       "Trojer Andrej                   112.0         2:55:48\n",
       "Sever Sandi                     341.0         3:12:10\n",
       "Gačnik Boštjan                  269.0          3:8:55\n",
       "Ožbolt Janez                    125.0          3:1:30\n",
       "Otoničar Jože                   126.0          3:5:41\n",
       "Cerkovnik Matej                 134.0          3:4:47\n",
       "Omejc Iztok                     182.0          3:9:17\n",
       "Kodelja Andrej                  137.0          3:4:38\n",
       "Kopič David                     141.0          3:4:20\n",
       "Jeler Milan                     375.0         3:15:56\n",
       "...                               ...             ...\n",
       "Jordanov Vlado                 1623.0          4:42:5\n",
       "Milič Dušan                    1509.0         4:26:10\n",
       "Krejan Robert                  1285.0           4:9:2\n",
       "Koren Rok                      1297.0         4:14:35\n",
       "Pavše Uroš                     1427.0         4:14:30\n",
       "Poljanec Dejan                 1304.0         3:59:38\n",
       "Zemljič Heliodor               1459.0         4:29:18\n",
       "Rajh Zlatko                    1317.0         3:47:50\n",
       "Ladan Martin                   1336.0         4:17:34\n",
       "Povše Marjan                   1399.0         4:22:40\n",
       "Cehner Slavko                  1476.0         4:19:25\n",
       "Bojić Dejan                    1438.0         4:31:58\n",
       "Pavletić Slaven                1687.0         4:48:19\n",
       "Josipović Matko                1571.0         4:34:43\n",
       "Vidic Tadej                    1627.0         4:39:18\n",
       "Zobavnik Igor                  1496.0         4:35:31\n",
       "Tomažič Andrej                 1500.0          4:34:9\n",
       "Brnobič Veljano                1396.0         4:21:25\n",
       "Keršmanc Jernej                1443.0          4:28:0\n",
       "Agnič Robert                   1408.0          4:1:51\n",
       "Grosek Karl                    1432.0          4:18:9\n",
       "Omerčević Dušan                1568.0         4:39:17\n",
       "Filipič Zdenko                 1456.0         4:17:20\n",
       "Devčić Berislav                1578.0          4:49:4\n",
       "Kajzer Janez                   1478.0         4:19:21\n",
       "Evačić Juraj                   1548.0          4:49:5\n",
       "Jež Roman                      1494.0          4:7:50\n",
       "Hočevar Marko                  1497.0         4:41:25\n",
       "Potokar Samo                   1498.0         4:49:15\n",
       "Rogelj Rok                      610.0          3:38:9\n",
       "\n",
       "[260 rows x 2 columns]"
      ]
     },
     "execution_count": 41,
     "metadata": {},
     "output_type": "execute_result"
    }
   ],
   "source": [
    "pd.concat([tabela_naj_uvrstitev_m,povprecje_moski],axis = 1)"
   ]
  },
  {
   "cell_type": "code",
   "execution_count": 42,
   "metadata": {},
   "outputs": [
    {
     "data": {
      "text/html": [
       "<div>\n",
       "<style>\n",
       "    .dataframe thead tr:only-child th {\n",
       "        text-align: right;\n",
       "    }\n",
       "\n",
       "    .dataframe thead th {\n",
       "        text-align: left;\n",
       "    }\n",
       "\n",
       "    .dataframe tbody tr th {\n",
       "        vertical-align: top;\n",
       "    }\n",
       "</style>\n",
       "<table border=\"1\" class=\"dataframe\">\n",
       "  <thead>\n",
       "    <tr style=\"text-align: right;\">\n",
       "      <th></th>\n",
       "      <th>najboljša uvrstitev</th>\n",
       "      <th>povprečje časov</th>\n",
       "    </tr>\n",
       "  </thead>\n",
       "  <tbody>\n",
       "    <tr>\n",
       "      <th>Rakušček Katja</th>\n",
       "      <td>20.0</td>\n",
       "      <td>3:16:3</td>\n",
       "    </tr>\n",
       "    <tr>\n",
       "      <th>Urban Maja</th>\n",
       "      <td>18.0</td>\n",
       "      <td>3:9:30</td>\n",
       "    </tr>\n",
       "    <tr>\n",
       "      <th>Stržinar Marjeta</th>\n",
       "      <td>19.0</td>\n",
       "      <td>3:17:16</td>\n",
       "    </tr>\n",
       "    <tr>\n",
       "      <th>Lapanja Marinka</th>\n",
       "      <td>40.0</td>\n",
       "      <td>3:26:44</td>\n",
       "    </tr>\n",
       "    <tr>\n",
       "      <th>Zevnik Andreja</th>\n",
       "      <td>34.0</td>\n",
       "      <td>3:24:38</td>\n",
       "    </tr>\n",
       "    <tr>\n",
       "      <th>Potočnik Tanja</th>\n",
       "      <td>28.0</td>\n",
       "      <td>3:16:53</td>\n",
       "    </tr>\n",
       "    <tr>\n",
       "      <th>Senković Senka</th>\n",
       "      <td>58.0</td>\n",
       "      <td>3:33:35</td>\n",
       "    </tr>\n",
       "    <tr>\n",
       "      <th>Prosen Tina</th>\n",
       "      <td>58.0</td>\n",
       "      <td>3:32:21</td>\n",
       "    </tr>\n",
       "    <tr>\n",
       "      <th>Trontelj Marija</th>\n",
       "      <td>41.0</td>\n",
       "      <td>3:30:47</td>\n",
       "    </tr>\n",
       "    <tr>\n",
       "      <th>Arnež Teja</th>\n",
       "      <td>63.0</td>\n",
       "      <td>3:36:2</td>\n",
       "    </tr>\n",
       "    <tr>\n",
       "      <th>Mlinar Polonca</th>\n",
       "      <td>87.0</td>\n",
       "      <td>3:41:36</td>\n",
       "    </tr>\n",
       "    <tr>\n",
       "      <th>Jelenc Nuša</th>\n",
       "      <td>124.0</td>\n",
       "      <td>3:47:30</td>\n",
       "    </tr>\n",
       "    <tr>\n",
       "      <th>Tušar Mihaela</th>\n",
       "      <td>81.0</td>\n",
       "      <td>3:44:59</td>\n",
       "    </tr>\n",
       "    <tr>\n",
       "      <th>Berčič Mateja</th>\n",
       "      <td>172.0</td>\n",
       "      <td>3:57:16</td>\n",
       "    </tr>\n",
       "    <tr>\n",
       "      <th>Medved Ksenja</th>\n",
       "      <td>222.0</td>\n",
       "      <td>4:0:30</td>\n",
       "    </tr>\n",
       "    <tr>\n",
       "      <th>Comino Andreja</th>\n",
       "      <td>129.0</td>\n",
       "      <td>3:54:45</td>\n",
       "    </tr>\n",
       "    <tr>\n",
       "      <th>Selinšek Božica</th>\n",
       "      <td>125.0</td>\n",
       "      <td>3:49:36</td>\n",
       "    </tr>\n",
       "    <tr>\n",
       "      <th>Leskovar Sonja</th>\n",
       "      <td>136.0</td>\n",
       "      <td>3:42:7</td>\n",
       "    </tr>\n",
       "    <tr>\n",
       "      <th>Marolt Urška</th>\n",
       "      <td>209.0</td>\n",
       "      <td>4:4:11</td>\n",
       "    </tr>\n",
       "    <tr>\n",
       "      <th>Ivanež Polona</th>\n",
       "      <td>167.0</td>\n",
       "      <td>4:0:29</td>\n",
       "    </tr>\n",
       "    <tr>\n",
       "      <th>Kopač Nataša</th>\n",
       "      <td>187.0</td>\n",
       "      <td>4:3:7</td>\n",
       "    </tr>\n",
       "    <tr>\n",
       "      <th>Perozzi Manca</th>\n",
       "      <td>293.0</td>\n",
       "      <td>4:14:22</td>\n",
       "    </tr>\n",
       "    <tr>\n",
       "      <th>Vebster Sanja</th>\n",
       "      <td>182.0</td>\n",
       "      <td>3:44:23</td>\n",
       "    </tr>\n",
       "    <tr>\n",
       "      <th>Jošt Miriam</th>\n",
       "      <td>231.0</td>\n",
       "      <td>4:3:34</td>\n",
       "    </tr>\n",
       "    <tr>\n",
       "      <th>Baša Cigoj Barbara</th>\n",
       "      <td>303.0</td>\n",
       "      <td>4:20:43</td>\n",
       "    </tr>\n",
       "    <tr>\n",
       "      <th>Kramer Jana</th>\n",
       "      <td>300.0</td>\n",
       "      <td>4:22:4</td>\n",
       "    </tr>\n",
       "    <tr>\n",
       "      <th>Rejc Franja</th>\n",
       "      <td>285.0</td>\n",
       "      <td>4:21:34</td>\n",
       "    </tr>\n",
       "    <tr>\n",
       "      <th>Kočar Vesna</th>\n",
       "      <td>275.0</td>\n",
       "      <td>4:9:13</td>\n",
       "    </tr>\n",
       "    <tr>\n",
       "      <th>Suvorov Mojca</th>\n",
       "      <td>309.0</td>\n",
       "      <td>4:26:6</td>\n",
       "    </tr>\n",
       "    <tr>\n",
       "      <th>Milič Rada</th>\n",
       "      <td>376.0</td>\n",
       "      <td>4:37:41</td>\n",
       "    </tr>\n",
       "    <tr>\n",
       "      <th>Skaza Darja</th>\n",
       "      <td>319.0</td>\n",
       "      <td>4:29:35</td>\n",
       "    </tr>\n",
       "    <tr>\n",
       "      <th>Cafuta Barbara</th>\n",
       "      <td>346.0</td>\n",
       "      <td>4:35:38</td>\n",
       "    </tr>\n",
       "    <tr>\n",
       "      <th>Karaman Sabina</th>\n",
       "      <td>352.0</td>\n",
       "      <td>4:20:48</td>\n",
       "    </tr>\n",
       "    <tr>\n",
       "      <th>Makovec Jana</th>\n",
       "      <td>399.0</td>\n",
       "      <td>4:57:19</td>\n",
       "    </tr>\n",
       "    <tr>\n",
       "      <th>Bernik Valerija</th>\n",
       "      <td>390.0</td>\n",
       "      <td>5:4:57</td>\n",
       "    </tr>\n",
       "  </tbody>\n",
       "</table>\n",
       "</div>"
      ],
      "text/plain": [
       "                    najboljša uvrstitev povprečje časov\n",
       "Rakušček Katja                     20.0          3:16:3\n",
       "Urban Maja                         18.0          3:9:30\n",
       "Stržinar Marjeta                   19.0         3:17:16\n",
       "Lapanja Marinka                    40.0         3:26:44\n",
       "Zevnik Andreja                     34.0         3:24:38\n",
       "Potočnik Tanja                     28.0         3:16:53\n",
       "Senković Senka                     58.0         3:33:35\n",
       "Prosen Tina                        58.0         3:32:21\n",
       "Trontelj Marija                    41.0         3:30:47\n",
       "Arnež Teja                         63.0          3:36:2\n",
       "Mlinar Polonca                     87.0         3:41:36\n",
       "Jelenc Nuša                       124.0         3:47:30\n",
       "Tušar Mihaela                      81.0         3:44:59\n",
       "Berčič Mateja                     172.0         3:57:16\n",
       "Medved Ksenja                     222.0          4:0:30\n",
       "Comino Andreja                    129.0         3:54:45\n",
       "Selinšek Božica                   125.0         3:49:36\n",
       "Leskovar Sonja                    136.0          3:42:7\n",
       "Marolt Urška                      209.0          4:4:11\n",
       "Ivanež Polona                     167.0          4:0:29\n",
       "Kopač Nataša                      187.0           4:3:7\n",
       "Perozzi Manca                     293.0         4:14:22\n",
       "Vebster Sanja                     182.0         3:44:23\n",
       "Jošt Miriam                       231.0          4:3:34\n",
       "Baša Cigoj Barbara                303.0         4:20:43\n",
       "Kramer Jana                       300.0          4:22:4\n",
       "Rejc Franja                       285.0         4:21:34\n",
       "Kočar Vesna                       275.0          4:9:13\n",
       "Suvorov Mojca                     309.0          4:26:6\n",
       "Milič Rada                        376.0         4:37:41\n",
       "Skaza Darja                       319.0         4:29:35\n",
       "Cafuta Barbara                    346.0         4:35:38\n",
       "Karaman Sabina                    352.0         4:20:48\n",
       "Makovec Jana                      399.0         4:57:19\n",
       "Bernik Valerija                   390.0          5:4:57"
      ]
     },
     "execution_count": 42,
     "metadata": {},
     "output_type": "execute_result"
    }
   ],
   "source": [
    "pd.concat([tabela_naj_uvrstitev_z,povprecje_zenske],axis = 1)"
   ]
  },
  {
   "cell_type": "markdown",
   "metadata": {},
   "source": [
    "Tekači, ki tečejo več let, dosegajo vsako leto drugačne rezultate. Odvisni so predvsem od pripravljenosti, tako fizične kot psihične.\n",
    "Tekmovalci imajo lahko tudi 'slab dan', zato se v veliko športih zbira rezultate in nakoncu pogleda povprečje le teh. \n",
    "Zgornja tabela nam navaja ravno to, povprečje časov, ki so jih posamezni tekmovalci dosegli na tekmovanjih.\n",
    "Tabela je razporejena po najbolšem povprečnem času padajoče.\n",
    "Vidimo, da so nekateri tekmovalci z boljšimi povprečnimi časi, dosegli tudi slabše najboljše uvrstitve."
   ]
  }
 ],
 "metadata": {
  "kernelspec": {
   "display_name": "Python 3",
   "language": "python",
   "name": "python3"
  },
  "language_info": {
   "codemirror_mode": {
    "name": "ipython",
    "version": 3
   },
   "file_extension": ".py",
   "mimetype": "text/x-python",
   "name": "python",
   "nbconvert_exporter": "python",
   "pygments_lexer": "ipython3",
   "version": "3.6.3"
  }
 },
 "nbformat": 4,
 "nbformat_minor": 2
}
